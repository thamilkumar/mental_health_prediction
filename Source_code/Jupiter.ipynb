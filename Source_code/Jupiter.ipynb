{
 "cells": [
  {
   "cell_type": "code",
   "execution_count": 1,
   "id": "ea6d94f6-ecfb-43ca-a8f9-050f9b5a3d43",
   "metadata": {},
   "outputs": [],
   "source": [
    "import numpy as np\n",
    "import pandas as pd\n",
    "import matplotlib.pyplot as plt\n",
    "import seaborn as sns"
   ]
  },
  {
   "cell_type": "code",
   "execution_count": 5,
   "id": "fefe4255-2ae5-4d69-bf78-d5d2c1ccf5bb",
   "metadata": {},
   "outputs": [],
   "source": [
    "mental_df = pd.read_csv('Mental_Health_Dataset.csv')"
   ]
  },
  {
   "cell_type": "code",
   "execution_count": 6,
   "id": "380b711f-bf6b-4cb9-a8e3-13b6cd5e5ea1",
   "metadata": {},
   "outputs": [],
   "source": [
    "mental_df.drop_duplicates(inplace= True)\n"
   ]
  },
  {
   "cell_type": "code",
   "execution_count": 7,
   "id": "88bd7d75-ae02-409e-beb1-b4479bbb16c0",
   "metadata": {},
   "outputs": [],
   "source": [
    "mental_df.drop(columns='Timestamp',inplace=True)"
   ]
  },
  {
   "cell_type": "code",
   "execution_count": 8,
   "id": "43db905a-960b-448e-a070-08c6065014c2",
   "metadata": {},
   "outputs": [],
   "source": [
    "mental_df.dropna(inplace=True)"
   ]
  },
  {
   "cell_type": "code",
   "execution_count": 9,
   "id": "03ece95e-512b-4f08-a2ca-1de44bbdea8e",
   "metadata": {},
   "outputs": [],
   "source": [
    "col=mental_df.columns"
   ]
  },
  {
   "cell_type": "code",
   "execution_count": 10,
   "id": "4ec9a384-4bdf-4fba-9b42-c46a29206cf9",
   "metadata": {},
   "outputs": [
    {
     "data": {
      "text/plain": [
       "Index(['Gender', 'Country', 'Occupation', 'self_employed', 'family_history',\n",
       "       'treatment', 'Days_Indoors', 'Growing_Stress', 'Changes_Habits',\n",
       "       'Mental_Health_History', 'Mood_Swings', 'Coping_Struggles',\n",
       "       'Work_Interest', 'Social_Weakness', 'mental_health_interview',\n",
       "       'care_options'],\n",
       "      dtype='object')"
      ]
     },
     "execution_count": 10,
     "metadata": {},
     "output_type": "execute_result"
    }
   ],
   "source": [
    "col\n"
   ]
  },
  {
   "cell_type": "code",
   "execution_count": 11,
   "id": "067d5bbb-6aa1-4837-847b-d004a40e3b95",
   "metadata": {},
   "outputs": [
    {
     "name": "stdout",
     "output_type": "stream",
     "text": [
      "AFTER LABEL ENCODING:\n",
      "[0 1]\n",
      "[34 25  0  4 33 29 30 22 21 15  1 16 11 26  3  6 27 13 31 10 17 18  2 28\n",
      " 23  7 32  9 19 14 20  5 12  8 24]\n",
      "[1 4 0 2 3]\n",
      "[0 1]\n",
      "[1 0]\n",
      "[1 0]\n",
      "[0 3 4 1 2]\n",
      "[2 1 0]\n",
      "[1 2 0]\n",
      "[2 1 0]\n",
      "[2 1 0]\n",
      "[0 1]\n",
      "[1 0 2]\n",
      "[2 1 0]\n",
      "[0 1 2]\n",
      "[2 1 0]\n"
     ]
    }
   ],
   "source": [
    "from sklearn.preprocessing import LabelEncoder\n",
    "\n",
    "# Initialize LabelEncoder\n",
    "encoder = LabelEncoder()\n",
    "\n",
    "# Apply encoding to all columns\n",
    "df_enc =pd.DataFrame( mental_df.apply(lambda col: encoder.fit_transform(col) if col.dtypes == 'object' else col))\n",
    "\n",
    "df_enc\n",
    "print(\"AFTER LABEL ENCODING:\")\n",
    "column=df_enc.columns.tolist()\n",
    "for i in column:\n",
    "    print(df_enc[i].unique())\n"
   ]
  },
  {
   "cell_type": "code",
   "execution_count": 12,
   "id": "fccd98e7-f8e0-45d1-b95b-d7517fc23015",
   "metadata": {},
   "outputs": [],
   "source": [
    "\n",
    "from sklearn.model_selection import train_test_split, GridSearchCV\n",
    "from sklearn.linear_model import SGDClassifier\n",
    "from sklearn.ensemble import GradientBoostingClassifier\n",
    "from sklearn.preprocessing import StandardScaler, LabelEncoder\n",
    "from sklearn.pipeline import Pipeline\n",
    "from sklearn.metrics import accuracy_score, classification_report, confusion_matrix, roc_curve, roc_auc_score\n"
   ]
  },
  {
   "cell_type": "code",
   "execution_count": 13,
   "id": "70792b13-7949-43dd-bd73-ac291cc88d64",
   "metadata": {},
   "outputs": [],
   "source": [
    "X = df_enc.drop(columns='treatment')\n",
    "y = df_enc['treatment']\n",
    "\n",
    "# Split the dataset into training and testing sets\n",
    "X_train, X_test, y_train, y_test = train_test_split(X, y, test_size=0.3, random_state=10)"
   ]
  },
  {
   "cell_type": "code",
   "execution_count": 14,
   "id": "075d97c9-4d40-4446-a341-b514054c5a2c",
   "metadata": {},
   "outputs": [],
   "source": [
    "from sklearn.ensemble import GradientBoostingClassifier\n",
    "import joblib\n",
    "import pickle\n",
    "model = GradientBoostingClassifier()\n",
    "\n",
    "model.fit(X_train, y_train)\n",
    "\n",
    "# Save the model\n",
    "with open('model.pkl', 'wb') as file:\n",
    "    pickle.dump(model, file)"
   ]
  },
  {
   "cell_type": "code",
   "execution_count": 26,
   "id": "6895c3ee-1c90-41f9-ac40-c49d45ab0feb",
   "metadata": {},
   "outputs": [
    {
     "name": "stdout",
     "output_type": "stream",
     "text": [
      "1.4.2\n"
     ]
    }
   ],
   "source": [
    "import sklearn\n",
    "print(sklearn.__version__)\n"
   ]
  }
 ],
 "metadata": {
  "kernelspec": {
   "display_name": "Python 3 (ipykernel)",
   "language": "python",
   "name": "python3"
  },
  "language_info": {
   "codemirror_mode": {
    "name": "ipython",
    "version": 3
   },
   "file_extension": ".py",
   "mimetype": "text/x-python",
   "name": "python",
   "nbconvert_exporter": "python",
   "pygments_lexer": "ipython3",
   "version": "3.12.4"
  }
 },
 "nbformat": 4,
 "nbformat_minor": 5
}
